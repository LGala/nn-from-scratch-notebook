{
 "cells": [
  {
   "attachments": {},
   "cell_type": "markdown",
   "metadata": {},
   "source": [
    "### Current Neural network\n",
    "<img src=\"img/net.png\" height=\"40%\" width=\"40%\">\n"
   ]
  },
  {
   "attachments": {},
   "cell_type": "markdown",
   "metadata": {},
   "source": [
    "### Activation function\n",
    "Needed to make the neurons output nonlinear"
   ]
  },
  {
   "cell_type": "code",
   "execution_count": 13,
   "metadata": {},
   "outputs": [
    {
     "data": {
      "text/plain": [
       "<function matplotlib.pyplot.show(close=None, block=None)>"
      ]
     },
     "execution_count": 13,
     "metadata": {},
     "output_type": "execute_result"
    },
    {
     "data": {
      "image/png": "[encoded data removed]",
      "text/plain": [
       "<Figure size 640x480 with 1 Axes>"
      ]
     },
     "metadata": {},
     "output_type": "display_data"
    }
   ],
   "source": [
    "import numpy as np\n",
    "import matplotlib.pyplot as plt\n",
    "\n",
    "def sigmoid(input: float | list) -> float | list:\n",
    "    return 1. / (1 + np.exp(-input))\n",
    "\n",
    "plt.plot(np.arange(-15, 15), sigmoid(np.arange(-15, 15)))\n",
    "plt.show"
   ]
  },
  {
   "attachments": {},
   "cell_type": "markdown",
   "metadata": {},
   "source": [
    "### forward pass\n",
    "Calculate the network results with fake weights the first time"
   ]
  },
  {
   "cell_type": "code",
   "execution_count": 14,
   "metadata": {},
   "outputs": [],
   "source": [
    "x1, x2 = 3, 1\n",
    "w1, w2, w3, w4 = 6, -3, -2, 5\n",
    "w5, w6, w7, w8 = 1, -2, .25, 2\n",
    "\n",
    "h1_in = x1 * w1 + x2 * w3\n",
    "h2_in = x1 * w2 + x2 * w4\n",
    "\n",
    "h1_out = sigmoid(h1_in)\n",
    "h2_out = sigmoid(h2_in)\n",
    "\n",
    "y1_in = h1_out * w5 + h2_out * w7\n",
    "y2_in = h1_out * w6 + h2_out * w8\n",
    "\n",
    "y1_out = sigmoid(y1_in)\n",
    "y2_out = sigmoid(y2_in)"
   ]
  },
  {
   "attachments": {},
   "cell_type": "markdown",
   "metadata": {},
   "source": [
    "### loss function\n",
    "- calculate how much the current weights are doing good \n",
    "- in this case we are using a simple function: \"sum of squared errors\""
   ]
  },
  {
   "cell_type": "code",
   "execution_count": 15,
   "metadata": {},
   "outputs": [],
   "source": [
    "y1_target, y2_target = 1, 0\n",
    "e1, e2 = (y1_out - y1_target), (y2_out - y2_target)\n",
    "sum_squared_error = sum([e ** 2 for e in [e1, e2]])"
   ]
  },
  {
   "attachments": {},
   "cell_type": "markdown",
   "metadata": {},
   "source": [
    "### backpropagation\n",
    "- needed to update the weights of the network from the latests layer to the firsts (for caching reasons: the last value will be used by the firsts) \n",
    "- foreach weight calculate the partial derivative and minimize the loss function with the chain function"
   ]
  },
  {
   "cell_type": "code",
   "execution_count": 18,
   "metadata": {},
   "outputs": [],
   "source": [
    "# partial derivative of y1_out and y2_out with respect of the loss function\n",
    "y1_out_grad = 2 * e1\n",
    "y2_out_grad = 2 * e2\n",
    "\n",
    "# partial derivative of y1_in and y2_in with respect of the loss function\n",
    "y1_in_grad = y1_out_grad * (y1_out * (1 - y1_out))\n",
    "y2_in_grad = y2_out_grad * (y2_out * (1 - y2_out))\n",
    "\n",
    "# partial derivative of w5, w6, w7, w8 with respect of the loss function\n",
    "w5_grad = y1_in_grad * h1_out\n",
    "w6_grad = y2_in_grad * h1_out\n",
    "w7_grad = y1_in_grad * h2_out\n",
    "w8_grad = y2_in_grad * h2_out\n",
    "\n",
    "# partial derivative of h1_out and h2_out with respect of the loss function\n",
    "h1_out_grad = y1_in_grad * w5 + y2_in_grad * w6\n",
    "h2_out_grad = y1_in_grad * w7 + y2_in_grad * w8"
   ]
  }
 ],
 "metadata": {
  "kernelspec": {
   "display_name": "Python 3",
   "language": "python",
   "name": "python3"
  },
  "language_info": {
   "codemirror_mode": {
    "name": "ipython",
    "version": 3
   },
   "file_extension": ".py",
   "mimetype": "text/x-python",
   "name": "python",
   "nbconvert_exporter": "python",
   "pygments_lexer": "ipython3",
   "version": "3.11.1"
  },
  "orig_nbformat": 4,
  "vscode": {
   "interpreter": {
    "hash": "aee8b7b246df8f9039afb4144a1f6fd8d2ca17a180786b69acc140d282b71a49"
   }
  }
 },
 "nbformat": 4,
 "nbformat_minor": 2
}
